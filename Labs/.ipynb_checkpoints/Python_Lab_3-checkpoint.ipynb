{
 "cells": [
  {
   "cell_type": "markdown",
   "metadata": {},
   "source": [
    "# Python_Lab_3\n"
   ]
  },
  {
   "cell_type": "markdown",
   "metadata": {},
   "source": [
    "### Task 1\n",
    "- Write a function named **'create_student_records'** that takes a list of tuples. Each tuple contains a student's name and their scores in three subjects. The function should return a list of dictionaries, where each dictionary represents a student with keys: name, subject1, subject2, subject3. Use list comprehension to create the list of dictionaries."
   ]
  },
  {
   "cell_type": "code",
   "execution_count": 11,
   "metadata": {},
   "outputs": [],
   "source": [
    "def create_student_records(student_scores):\n",
    "\n",
    "    student_records = [\n",
    "        {'name': name, 'subject1': subject1, 'subject2': subject2, 'subject3': subject3}\n",
    "        for name, subject1, subject2, subject3 in student_scores\n",
    "    ]\n",
    "\n",
    "    return student_records\n",
    "\n"
   ]
  },
  {
   "cell_type": "code",
   "execution_count": 66,
   "metadata": {},
   "outputs": [
    {
     "data": {
      "text/plain": [
       "[{'name': 'Arwa', 'subject1': 85, 'subject2': 90, 'subject3': 100},\n",
       " {'name': 'Ghadia', 'subject1': 78, 'subject2': 88, 'subject3': 92},\n",
       " {'name': 'Ghadeer', 'subject1': 100, 'subject2': 100, 'subject3': 95},\n",
       " {'name': 'Deem', 'subject1': 60, 'subject2': 70, 'subject3': 40},\n",
       " {'name': 'Saad', 'subject1': 50, 'subject2': 66, 'subject3': 78},\n",
       " {'name': 'Budoor', 'subject1': 80, 'subject2': 90, 'subject3': 100}]"
      ]
     },
     "execution_count": 66,
     "metadata": {},
     "output_type": "execute_result"
    }
   ],
   "source": [
    "student_scores = [\n",
    "    ('Arwa', 85, 90, 100),\n",
    "    ('Ghadia', 78, 88, 92),\n",
    "    ('Ghadeer', 100, 100, 95),\n",
    "    ('Deem', 60, 70, 40),\n",
    "    ('Saad',50,66,78),\n",
    "    ('Budoor',80,90,100)\n",
    "]\n",
    "lst = create_student_records(student_scores)\n",
    "lst"
   ]
  },
  {
   "cell_type": "markdown",
   "metadata": {},
   "source": [
    "### Task 2\n",
    "- Write a function named **'filter_and_sort_students'** that takes the list of dictionaries from Question 1 and returns a sorted list of student names who have an average score of 80 or more across all subjects. Sort the names in alphabetical order."
   ]
  },
  {
   "cell_type": "code",
   "execution_count": 67,
   "metadata": {},
   "outputs": [],
   "source": [
    "def filter_and_sort_students(li):\n",
    "\n",
    "    #used list Comprehension to filter the list\n",
    "    filtered_list = [x for x in li if (x['subject1'] + x['subject2'] + x['subject3'])/3 >=80]\n",
    "    #used lambda to sort the list and used .lower so it doesn't mess up the alphabetical order \n",
    "    sorted_list = sorted(filtered_list, key=lambda x: x['name'].lower())\n",
    "\n",
    "    return sorted_list\n",
    "    "
   ]
  },
  {
   "cell_type": "code",
   "execution_count": 68,
   "metadata": {},
   "outputs": [
    {
     "data": {
      "text/plain": [
       "[{'name': 'Arwa', 'subject1': 85, 'subject2': 90, 'subject3': 100},\n",
       " {'name': 'Budoor', 'subject1': 80, 'subject2': 90, 'subject3': 100},\n",
       " {'name': 'Ghadeer', 'subject1': 100, 'subject2': 100, 'subject3': 95},\n",
       " {'name': 'Ghadia', 'subject1': 78, 'subject2': 88, 'subject3': 92}]"
      ]
     },
     "execution_count": 68,
     "metadata": {},
     "output_type": "execute_result"
    }
   ],
   "source": [
    "filter_and_sort_students(lst)"
   ]
  },
  {
   "cell_type": "markdown",
   "metadata": {},
   "source": [
    "### Task 3\n",
    "- Write a function named **'get_product_info'** that prompts the user to enter information about a product. The function should ask for the product name, product price, and product quantity. If the user enters an invalid input (e.g., a non-numeric value for the price or quantity), the function should handle the error and prompt the user to enter the value again. Return a dictionary containing the product information."
   ]
  },
  {
   "cell_type": "code",
   "execution_count": 95,
   "metadata": {},
   "outputs": [],
   "source": [
    "def get_product_info():\n",
    "    \n",
    "    user_product_name = input('Enter product name:')\n",
    "    while True:\n",
    "        \n",
    "        try: \n",
    "            user_product_price = float(input('Enter product price: '))\n",
    "            user_product_quantity = int(input('Enter product quantity: '))\n",
    "        except ValueError:\n",
    "            print(\"Invalid value. Please enter a number! Try again :)\")\n",
    "        else:\n",
    "            break\n",
    "\n",
    "    products = {\n",
    "        'product_name' : user_product_name,\n",
    "        'product_price' : user_product_price,\n",
    "        'product_quantity' : user_product_quantity\n",
    "    }\n",
    "\n",
    "    return products\n"
   ]
  },
  {
   "cell_type": "code",
   "execution_count": 96,
   "metadata": {},
   "outputs": [
    {
     "name": "stdin",
     "output_type": "stream",
     "text": [
      "Enter product name: Coffee\n",
      "Enter product price:  ;\n"
     ]
    },
    {
     "name": "stdout",
     "output_type": "stream",
     "text": [
      "Invalid value. Please enter a number! Try again :)\n"
     ]
    },
    {
     "name": "stdin",
     "output_type": "stream",
     "text": [
      "Enter product price:  10.5\n",
      "Enter product quantity:  '\n"
     ]
    },
    {
     "name": "stdout",
     "output_type": "stream",
     "text": [
      "Invalid value. Please enter a number! Try again :)\n"
     ]
    },
    {
     "name": "stdin",
     "output_type": "stream",
     "text": [
      "Enter product price:  10.5\n",
      "Enter product quantity:  3\n"
     ]
    },
    {
     "data": {
      "text/plain": [
       "{'product_name': 'Coffee', 'product_price': 10.5, 'product_quantity': 3}"
      ]
     },
     "execution_count": 96,
     "metadata": {},
     "output_type": "execute_result"
    }
   ],
   "source": [
    "get_product_info()"
   ]
  },
  {
   "cell_type": "markdown",
   "metadata": {},
   "source": [
    "### Task 4\n",
    "- Write a function named **'get_even_numbers'** that takes a list of integers and returns a list of even numbers using list comprehension."
   ]
  },
  {
   "cell_type": "code",
   "execution_count": 120,
   "metadata": {},
   "outputs": [],
   "source": [
    "def get_even_number(num_lst):\n",
    "    even_list = [num for num in num_lst if num%2 == 0]\n",
    "    \n",
    "    return even_list\n"
   ]
  },
  {
   "cell_type": "code",
   "execution_count": 121,
   "metadata": {},
   "outputs": [
    {
     "name": "stdout",
     "output_type": "stream",
     "text": [
      "[2, 4, 6]\n",
      "[6, 6, 8]\n"
     ]
    }
   ],
   "source": [
    "lst_num= [1,2,3,4,5,6]\n",
    "print(get_even_number(lst_num))\n",
    "print(get_even_number([3,5,6,1,9,6,8]))"
   ]
  },
  {
   "cell_type": "markdown",
   "metadata": {},
   "source": [
    "### Task 5\n",
    "- Write a function named **'pair_elements'** that takes two lists of equal length as parameters and returns a list of tuples, where each tuple contains corresponding elements from the two lists. Use the zip function to achieve this."
   ]
  },
  {
   "cell_type": "code",
   "execution_count": 122,
   "metadata": {},
   "outputs": [],
   "source": [
    "def pair_elements(lst1,lst2):\n",
    "    return list(zip(lst1,lst2))\n",
    "    "
   ]
  },
  {
   "cell_type": "code",
   "execution_count": 123,
   "metadata": {},
   "outputs": [
    {
     "data": {
      "text/plain": [
       "[('Arwa', 21), ('Ghadeer', 17), ('Deem,Sarah', 9)]"
      ]
     },
     "execution_count": 123,
     "metadata": {},
     "output_type": "execute_result"
    }
   ],
   "source": [
    "names = ('Arwa','Ghadeer','Deem,Sarah')\n",
    "ages = (21,17,9,42)\n",
    "pair_elements(names , ages)"
   ]
  },
  {
   "cell_type": "markdown",
   "metadata": {},
   "source": [
    "### Task 6\n",
    "- Write a function named **'square_dict_lambda'** that takes a list of integers and returns a dictionary where the keys are the integers and the values are their squares. Use a lambda function within a dictionary comprehension to achieve this."
   ]
  },
  {
   "cell_type": "code",
   "execution_count": 128,
   "metadata": {},
   "outputs": [],
   "source": [
    "def square_dict_lambda(lst):\n",
    "    \n",
    "    d = {item: (lambda x: x ** 2)(item) for item in lst}\n",
    "\n",
    "    return d\n",
    "    "
   ]
  },
  {
   "cell_type": "code",
   "execution_count": 129,
   "metadata": {},
   "outputs": [
    {
     "data": {
      "text/plain": [
       "{1: 1, 2: 4, 3: 9, 4: 16, 5: 25, 6: 36, 7: 49, 8: 64, 9: 81}"
      ]
     },
     "execution_count": 129,
     "metadata": {},
     "output_type": "execute_result"
    }
   ],
   "source": [
    "l = (1,2,3,4,5,6,7,8,9)\n",
    "square_dict_lambda(l)"
   ]
  }
 ],
 "metadata": {
  "kernelspec": {
   "display_name": "Python 3 (ipykernel)",
   "language": "python",
   "name": "python3"
  },
  "language_info": {
   "codemirror_mode": {
    "name": "ipython",
    "version": 3
   },
   "file_extension": ".py",
   "mimetype": "text/x-python",
   "name": "python",
   "nbconvert_exporter": "python",
   "pygments_lexer": "ipython3",
   "version": "3.12.4"
  }
 },
 "nbformat": 4,
 "nbformat_minor": 4
}
